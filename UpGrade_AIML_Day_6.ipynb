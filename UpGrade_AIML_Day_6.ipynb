{
  "nbformat": 4,
  "nbformat_minor": 0,
  "metadata": {
    "colab": {
      "name": "UpGrade AIML Day 6.ipynb",
      "provenance": [],
      "collapsed_sections": [],
      "authorship_tag": "ABX9TyPMkE/gceOtQzathB91iv1u",
      "include_colab_link": true
    },
    "kernelspec": {
      "name": "python3",
      "display_name": "Python 3"
    }
  },
  "cells": [
    {
      "cell_type": "markdown",
      "metadata": {
        "id": "view-in-github",
        "colab_type": "text"
      },
      "source": [
        "<a href=\"https://colab.research.google.com/github/urabh75536/UpGrade-AIML/blob/master/UpGrade_AIML_Day_6.ipynb\" target=\"_parent\"><img src=\"https://colab.research.google.com/assets/colab-badge.svg\" alt=\"Open In Colab\"/></a>"
      ]
    },
    {
      "cell_type": "markdown",
      "metadata": {
        "id": "ZLHkk6F0J_OR",
        "colab_type": "text"
      },
      "source": [
        "**Question 1 :**\n",
        "Assuming that we have some email addresses in the \"username@companyname.com\" format, please\n",
        "write a program to print the company name of a given email address. Both user names and company\n",
        "names are composed of letters only."
      ]
    },
    {
      "cell_type": "code",
      "metadata": {
        "id": "Gsi9kAfNn_TQ",
        "colab_type": "code",
        "colab": {
          "base_uri": "https://localhost:8080/",
          "height": 53
        },
        "outputId": "f46285e5-a09c-42b0-a14c-fd77067b8295"
      },
      "source": [
        "x = input(\"Enter the email id of the persson\")\n",
        "container = x.split(\"@\")\n",
        "container = str(container[1])\n",
        "company_name = container.split(\".\")\n",
        "company_name = company_name[0]\n",
        "print(\"Company Name:\",company_name)\n"
      ],
      "execution_count": null,
      "outputs": [
        {
          "output_type": "stream",
          "text": [
            "Enter the email id of the perssonsaurabh.011kumar@gmail.com\n",
            "Company Name: gmail\n"
          ],
          "name": "stdout"
        }
      ]
    },
    {
      "cell_type": "markdown",
      "metadata": {
        "id": "NcVq4n6bKQo2",
        "colab_type": "text"
      },
      "source": [
        "**Question 2 :**\n",
        "Write a program that accepts a comma-separated sequence of words as input and prints the words in a\n",
        "comma-separated sequence after sorting them alphabetically."
      ]
    },
    {
      "cell_type": "code",
      "metadata": {
        "id": "MK38aZ_AHEZm",
        "colab_type": "code",
        "colab": {
          "base_uri": "https://localhost:8080/",
          "height": 71
        },
        "outputId": "4c33f6cd-e8c7-4e0c-9048-f2b30a5a8e0a"
      },
      "source": [
        "string = [x for x in input(\"Enter words seperated by commas\").split(\",\")]\n",
        "string.sort()\n",
        "print(\"Required Result:\",\",\".join(string))"
      ],
      "execution_count": null,
      "outputs": [
        {
          "output_type": "stream",
          "text": [
            "Enter words seperated by commassre,fe,few\n",
            "<class 'str'>\n",
            "Required Result: fe,few,sre\n"
          ],
          "name": "stdout"
        }
      ]
    },
    {
      "cell_type": "markdown",
      "metadata": {
        "id": "jvWW1YliLMA-",
        "colab_type": "text"
      },
      "source": [
        "**Question 3:**\n",
        "Create your own Jupyter Notebook for Sets. Reference link:"
      ]
    },
    {
      "cell_type": "markdown",
      "metadata": {
        "id": "-D56tbXqrPI7",
        "colab_type": "text"
      },
      "source": [
        "### Saurabh Notebook on Sets\n"
      ]
    },
    {
      "cell_type": "markdown",
      "metadata": {
        "id": "WXge39M0rjBr",
        "colab_type": "text"
      },
      "source": [
        "**Definition:**  Sets are type of python sequence which are mutabe, unindexed and iterable. Sets don't contain repeated elements.\n",
        "\n",
        "\n",
        "> e.g. {1,2,3,4}\n",
        "\n",
        "\n",
        "*   Syntax: {} --> elemets are stored inside is seperated by comma\n",
        "*   e.g. {1,2,3,4}\n",
        "\n",
        "\n",
        "\n",
        "\n",
        "\n",
        "\n",
        "\n",
        "\n",
        "\n",
        "\n",
        "\n",
        "\n",
        "\n"
      ]
    },
    {
      "cell_type": "code",
      "metadata": {
        "id": "8PlIoob90ZqA",
        "colab_type": "code",
        "colab": {}
      },
      "source": [
        "# set syntax\n",
        "s = {1,2,3,4}\n"
      ],
      "execution_count": 37,
      "outputs": []
    },
    {
      "cell_type": "code",
      "metadata": {
        "id": "NKo4vUM-0psQ",
        "colab_type": "code",
        "colab": {
          "base_uri": "https://localhost:8080/",
          "height": 35
        },
        "outputId": "5a484aa5-b1dd-4d7f-d20c-744ca99e046e"
      },
      "source": [
        "# Checking the datatype\n",
        "print(type(s))"
      ],
      "execution_count": 38,
      "outputs": [
        {
          "output_type": "stream",
          "text": [
            "<class 'set'>\n"
          ],
          "name": "stdout"
        }
      ]
    },
    {
      "cell_type": "markdown",
      "metadata": {
        "id": "sha8nobb1BG9",
        "colab_type": "text"
      },
      "source": [
        "*   Sets can be passed a repeated values but it removes the repeated elements.\n",
        "\n",
        "> e.g. s = {1,1,5,4,6,6}\n",
        "\n",
        "\n",
        "> But the set will be, s = {1,4,5,6}"
      ]
    },
    {
      "cell_type": "code",
      "metadata": {
        "id": "1ZHMwIP609zI",
        "colab_type": "code",
        "colab": {
          "base_uri": "https://localhost:8080/",
          "height": 35
        },
        "outputId": "48010c2b-c12e-4920-b32f-939d15c6fc30"
      },
      "source": [
        "s = {1,1,5,4,6,6}\n",
        "print(s)"
      ],
      "execution_count": 39,
      "outputs": [
        {
          "output_type": "stream",
          "text": [
            "{1, 4, 5, 6}\n"
          ],
          "name": "stdout"
        }
      ]
    },
    {
      "cell_type": "markdown",
      "metadata": {
        "id": "Phmj1nKr1VjB",
        "colab_type": "text"
      },
      "source": [
        "*   Sets elements are non indexed.\n",
        "\n",
        "> This means that, when we store some numbers in the list say (list = [2,55,6]) then the first element stored in memory will be \"2\" then \"55\" and finally \"6\". But in set the order is maintianed. It can store in any order."
      ]
    },
    {
      "cell_type": "code",
      "metadata": {
        "id": "2yQkuLwi1uFt",
        "colab_type": "code",
        "colab": {
          "base_uri": "https://localhost:8080/",
          "height": 71
        },
        "outputId": "ccc6c963-7052-4802-b75e-9861116a8132"
      },
      "source": [
        "s = [eval(x) for x in input(\"Enter set elements seperated by comma\").split(\",\")]\n",
        "print(\"Entered elements:\",s)\n",
        "s = set(s)\n",
        "print(\"Set Value:\",s) "
      ],
      "execution_count": 41,
      "outputs": [
        {
          "output_type": "stream",
          "text": [
            "Enter set elements seperated by comma1,1,5,4,6,6\n",
            "Entered elements: [1, 1, 5, 4, 6, 6]\n",
            "Set Value: {1, 4, 5, 6}\n"
          ],
          "name": "stdout"
        }
      ]
    },
    {
      "cell_type": "markdown",
      "metadata": {
        "id": "eeYHCV7S2Pju",
        "colab_type": "text"
      },
      "source": [
        "Clearly, we can see the order of eneterd elemet is not fixed."
      ]
    },
    {
      "cell_type": "markdown",
      "metadata": {
        "id": "yFcxX6NB3VOW",
        "colab_type": "text"
      },
      "source": [
        "**Taking input the set values from user:**\n",
        "\n",
        "> Method 1: Using basic for loop\n",
        "\n",
        "> Method 2: Using list\n",
        "\n",
        "> Method 3: Using input()\n",
        "\n",
        "\n",
        "\n",
        "\n",
        "\n"
      ]
    },
    {
      "cell_type": "markdown",
      "metadata": {
        "id": "N7Ynsymf4--6",
        "colab_type": "text"
      },
      "source": [
        "**Method 1: Using basic loop function**"
      ]
    },
    {
      "cell_type": "code",
      "metadata": {
        "id": "a5pUAxhy5JHV",
        "colab_type": "code",
        "colab": {
          "base_uri": "https://localhost:8080/",
          "height": 143
        },
        "outputId": "5ed9db1d-6056-4b6f-a364-530913a98bfd"
      },
      "source": [
        "n = int(input(\"Enter the number of elemets to enter:\"))\n",
        "s = set()\n",
        "for e in range(n):\n",
        "  x = input(\"Enter element\")\n",
        "  s.add(x)\n",
        "print(\"Entered List:\",s)"
      ],
      "execution_count": 45,
      "outputs": [
        {
          "output_type": "stream",
          "text": [
            "Enter the number of elemets to enter:5\n",
            "Enter element1\n",
            "Enter element2\n",
            "Enter element2\n",
            "Enter element3\n",
            "Enter element3\n",
            "Entered List: {'3', '1', '2'}\n"
          ],
          "name": "stdout"
        }
      ]
    },
    {
      "cell_type": "markdown",
      "metadata": {
        "id": "0ct_wax_3vzB",
        "colab_type": "text"
      },
      "source": [
        "**Method 2: Using List: --> Type Casting Method**"
      ]
    },
    {
      "cell_type": "code",
      "metadata": {
        "id": "WXx7tTqG330a",
        "colab_type": "code",
        "colab": {
          "base_uri": "https://localhost:8080/",
          "height": 53
        },
        "outputId": "259967b8-a55e-4de2-adca-007ab467f9e2"
      },
      "source": [
        "s = [x for x in input(\"Enter the set elements seperated by comma\").split(\",\")]\n",
        "s = set(s)\n",
        "print(\"Entered Set:\",s)"
      ],
      "execution_count": 42,
      "outputs": [
        {
          "output_type": "stream",
          "text": [
            "Enter the set elements seperated by comma1,2,5,5\n",
            "Entered Set: {'1', '5', '2'}\n"
          ],
          "name": "stdout"
        }
      ]
    },
    {
      "cell_type": "markdown",
      "metadata": {
        "id": "wda5MXu34Nif",
        "colab_type": "text"
      },
      "source": [
        "**Method 3: Using input()**"
      ]
    },
    {
      "cell_type": "code",
      "metadata": {
        "id": "oBNQSIr04Xoz",
        "colab_type": "code",
        "colab": {
          "base_uri": "https://localhost:8080/",
          "height": 53
        },
        "outputId": "630532fa-b7b4-4cc9-841e-bd42f182e86a"
      },
      "source": [
        "s = {x for x in input(\"Enter set elemets seperated by comma\").split(\",\")}\n",
        "print(\"Entered Set:\",s)\n"
      ],
      "execution_count": 43,
      "outputs": [
        {
          "output_type": "stream",
          "text": [
            "Enter set elemets seperated by comma1,1,2,2,3\n",
            "Entered Set: {'3', '1', '2'}\n"
          ],
          "name": "stdout"
        }
      ]
    },
    {
      "cell_type": "markdown",
      "metadata": {
        "id": "IzLWmrDo2s49",
        "colab_type": "text"
      },
      "source": [
        "**Acesssing the elemets of sets**:\n",
        "\n",
        "> Method 1 : Using for loop\n",
        "\n",
        "> Method 2 : Using while loop\n",
        "\n",
        "> Method 3 : Using direct element access\n",
        "\n",
        "\n",
        "\n",
        "\n",
        "\n",
        "\n"
      ]
    },
    {
      "cell_type": "markdown",
      "metadata": {
        "id": "c5OGIEen3Hyn",
        "colab_type": "text"
      },
      "source": [
        "**Method 1:**"
      ]
    },
    {
      "cell_type": "code",
      "metadata": {
        "id": "AyNjjYEk2seY",
        "colab_type": "code",
        "colab": {
          "base_uri": "https://localhost:8080/",
          "height": 125
        },
        "outputId": "88a00fd4-3fa5-46cc-e26f-1d3817ad57ae"
      },
      "source": [
        "s = {1,2,3,4,5,6}\n",
        "for e in s:\n",
        "  print(\"Element:\",e)"
      ],
      "execution_count": 46,
      "outputs": [
        {
          "output_type": "stream",
          "text": [
            "Element: 1\n",
            "Element: 2\n",
            "Element: 3\n",
            "Element: 4\n",
            "Element: 5\n",
            "Element: 6\n"
          ],
          "name": "stdout"
        }
      ]
    },
    {
      "cell_type": "markdown",
      "metadata": {
        "id": "ha_3JkzK6VEL",
        "colab_type": "text"
      },
      "source": [
        "**Method 2:**"
      ]
    },
    {
      "cell_type": "code",
      "metadata": {
        "id": "_VNUWjwK2mcw",
        "colab_type": "code",
        "colab": {
          "base_uri": "https://localhost:8080/",
          "height": 223
        },
        "outputId": "c5ace5a0-3dac-49d6-fba6-609f97667845"
      },
      "source": [
        "s = {1,2,3,4,5,6}\n",
        "index = 0\n",
        "while index<len(s):\n",
        "  print(\"Element:\",s[index])\n",
        "  index += 1"
      ],
      "execution_count": 47,
      "outputs": [
        {
          "output_type": "error",
          "ename": "TypeError",
          "evalue": "ignored",
          "traceback": [
            "\u001b[0;31m---------------------------------------------------------------------------\u001b[0m",
            "\u001b[0;31mTypeError\u001b[0m                                 Traceback (most recent call last)",
            "\u001b[0;32m<ipython-input-47-9623ebc4005a>\u001b[0m in \u001b[0;36m<module>\u001b[0;34m()\u001b[0m\n\u001b[1;32m      2\u001b[0m \u001b[0mindex\u001b[0m \u001b[0;34m=\u001b[0m \u001b[0;36m0\u001b[0m\u001b[0;34m\u001b[0m\u001b[0;34m\u001b[0m\u001b[0m\n\u001b[1;32m      3\u001b[0m \u001b[0;32mwhile\u001b[0m \u001b[0mindex\u001b[0m\u001b[0;34m<\u001b[0m\u001b[0mlen\u001b[0m\u001b[0;34m(\u001b[0m\u001b[0ms\u001b[0m\u001b[0;34m)\u001b[0m\u001b[0;34m:\u001b[0m\u001b[0;34m\u001b[0m\u001b[0;34m\u001b[0m\u001b[0m\n\u001b[0;32m----> 4\u001b[0;31m   \u001b[0mprint\u001b[0m\u001b[0;34m(\u001b[0m\u001b[0;34m\"Element:\"\u001b[0m\u001b[0;34m,\u001b[0m\u001b[0ms\u001b[0m\u001b[0;34m[\u001b[0m\u001b[0mindex\u001b[0m\u001b[0;34m]\u001b[0m\u001b[0;34m)\u001b[0m\u001b[0;34m\u001b[0m\u001b[0;34m\u001b[0m\u001b[0m\n\u001b[0m\u001b[1;32m      5\u001b[0m   \u001b[0mindex\u001b[0m \u001b[0;34m+=\u001b[0m \u001b[0;36m1\u001b[0m\u001b[0;34m\u001b[0m\u001b[0;34m\u001b[0m\u001b[0m\n",
            "\u001b[0;31mTypeError\u001b[0m: 'set' object does not support indexing"
          ]
        }
      ]
    },
    {
      "cell_type": "markdown",
      "metadata": {
        "id": "7ab4mToB67Bg",
        "colab_type": "text"
      },
      "source": [
        "\n",
        "\n",
        "---\n",
        "\n"
      ]
    },
    {
      "cell_type": "markdown",
      "metadata": {
        "id": "k7YfwyD87Dbb",
        "colab_type": "text"
      },
      "source": [
        "**HERE WE CAN CLEARLY SEE THAT INDEX ACESSING IS NOT VALID IN SETS AS IT IS NON INDEXED SEQUENCE. SO, METHOD 2 AND METHOD 3 IS NOT VALID(WHICH WERE USED TO APPLY TO LISTS, TUPLE, STRINGS).**"
      ]
    },
    {
      "cell_type": "markdown",
      "metadata": {
        "id": "0KgqXM077jDm",
        "colab_type": "text"
      },
      "source": [
        "**Change of elements:** \n",
        "\n",
        "*   Since sets are not indexed so the elemets of the sets cannot be changed as we don't know the location where it is stored. And so we cannot changed.\n",
        "*   **This is the reason why slicing operators, index function, etc is not able to opearte in case of sets.**\n",
        "\n"
      ]
    },
    {
      "cell_type": "markdown",
      "metadata": {
        "id": "YUad6Cl58cPn",
        "colab_type": "text"
      },
      "source": [
        "**Adding Values in the Set:**\n",
        "\n",
        "> Two functions are used to add the values in the set\n",
        "*   add function\n",
        "*   update function\n",
        "\n",
        "> **add function**: It is used to add the values directly to set. It means this function can add one mutable sequences to the set at a time also aditionally it adds single values to the sequence.\n",
        "\n",
        "> **update function:** It is used to add values to the set. But this function much more acts like intersection meaning that it adds multiple values inside the set function. \n",
        "\n",
        "\n",
        "\n",
        "\n",
        "\n",
        "\n"
      ]
    },
    {
      "cell_type": "markdown",
      "metadata": {
        "id": "8Wb5UFbA9xR-",
        "colab_type": "text"
      },
      "source": [
        "**add function :**"
      ]
    },
    {
      "cell_type": "code",
      "metadata": {
        "id": "CjQMm-HU-df2",
        "colab_type": "code",
        "colab": {
          "base_uri": "https://localhost:8080/",
          "height": 35
        },
        "outputId": "42412560-8cd9-4272-ab29-6204f4d738ef"
      },
      "source": [
        "s = {1,2,3,4,5}\n",
        "s.add(\"apple\")\n",
        "print(s)\n"
      ],
      "execution_count": 49,
      "outputs": [
        {
          "output_type": "stream",
          "text": [
            "{1, 2, 3, 4, 5, 'apple'}\n"
          ],
          "name": "stdout"
        }
      ]
    },
    {
      "cell_type": "markdown",
      "metadata": {
        "id": "P2EC_AUI-UZM",
        "colab_type": "text"
      },
      "source": [
        "**update function :**"
      ]
    },
    {
      "cell_type": "code",
      "metadata": {
        "id": "TMpQhoyv-e1I",
        "colab_type": "code",
        "colab": {
          "base_uri": "https://localhost:8080/",
          "height": 35
        },
        "outputId": "a2dd91d1-5dab-4b2c-9d9e-a20d8beefb1f"
      },
      "source": [
        "s = {1,2,3,4,5}\n",
        "l = ['a','b','c']\n",
        "s.update(l)\n",
        "print(\"Updated Set:\",s)\n"
      ],
      "execution_count": 50,
      "outputs": [
        {
          "output_type": "stream",
          "text": [
            "Updated Set: {1, 2, 3, 4, 5, 'a', 'b', 'c'}\n"
          ],
          "name": "stdout"
        }
      ]
    },
    {
      "cell_type": "markdown",
      "metadata": {
        "id": "dhJrjUnM_DhC",
        "colab_type": "text"
      },
      "source": [
        "**IMPORTANT**\n",
        "\n",
        "> Sets cannot be updated with a element which is mutable\n",
        "The same is demonstrated below:\n",
        "\n",
        "\n",
        "\n"
      ]
    },
    {
      "cell_type": "code",
      "metadata": {
        "id": "kFT9qZCS7hvQ",
        "colab_type": "code",
        "colab": {
          "base_uri": "https://localhost:8080/",
          "height": 205
        },
        "outputId": "c53b0b5c-00d8-4152-fbd2-138925825027"
      },
      "source": [
        "s = {1,2,3,4}\n",
        "s.add([1,2])\n",
        "print(s)"
      ],
      "execution_count": 51,
      "outputs": [
        {
          "output_type": "error",
          "ename": "TypeError",
          "evalue": "ignored",
          "traceback": [
            "\u001b[0;31m---------------------------------------------------------------------------\u001b[0m",
            "\u001b[0;31mTypeError\u001b[0m                                 Traceback (most recent call last)",
            "\u001b[0;32m<ipython-input-51-6181ef53b9a7>\u001b[0m in \u001b[0;36m<module>\u001b[0;34m()\u001b[0m\n\u001b[1;32m      1\u001b[0m \u001b[0ms\u001b[0m \u001b[0;34m=\u001b[0m \u001b[0;34m{\u001b[0m\u001b[0;36m1\u001b[0m\u001b[0;34m,\u001b[0m\u001b[0;36m2\u001b[0m\u001b[0;34m,\u001b[0m\u001b[0;36m3\u001b[0m\u001b[0;34m,\u001b[0m\u001b[0;36m4\u001b[0m\u001b[0;34m}\u001b[0m\u001b[0;34m\u001b[0m\u001b[0;34m\u001b[0m\u001b[0m\n\u001b[0;32m----> 2\u001b[0;31m \u001b[0ms\u001b[0m\u001b[0;34m.\u001b[0m\u001b[0madd\u001b[0m\u001b[0;34m(\u001b[0m\u001b[0;34m[\u001b[0m\u001b[0;36m1\u001b[0m\u001b[0;34m,\u001b[0m\u001b[0;36m2\u001b[0m\u001b[0;34m]\u001b[0m\u001b[0;34m)\u001b[0m\u001b[0;34m\u001b[0m\u001b[0;34m\u001b[0m\u001b[0m\n\u001b[0m\u001b[1;32m      3\u001b[0m \u001b[0mprint\u001b[0m\u001b[0;34m(\u001b[0m\u001b[0ms\u001b[0m\u001b[0;34m)\u001b[0m\u001b[0;34m\u001b[0m\u001b[0;34m\u001b[0m\u001b[0m\n",
            "\u001b[0;31mTypeError\u001b[0m: unhashable type: 'list'"
          ]
        }
      ]
    },
    {
      "cell_type": "code",
      "metadata": {
        "id": "qJJimJbF_mpI",
        "colab_type": "code",
        "colab": {
          "base_uri": "https://localhost:8080/",
          "height": 169
        },
        "outputId": "6370454d-96d2-4b15-cd3e-b33767938e4d"
      },
      "source": [
        "s = {1,2,3,4,{1,2}}\n"
      ],
      "execution_count": 53,
      "outputs": [
        {
          "output_type": "error",
          "ename": "TypeError",
          "evalue": "ignored",
          "traceback": [
            "\u001b[0;31m---------------------------------------------------------------------------\u001b[0m",
            "\u001b[0;31mTypeError\u001b[0m                                 Traceback (most recent call last)",
            "\u001b[0;32m<ipython-input-53-c1ace18fbe51>\u001b[0m in \u001b[0;36m<module>\u001b[0;34m()\u001b[0m\n\u001b[0;32m----> 1\u001b[0;31m \u001b[0ms\u001b[0m \u001b[0;34m=\u001b[0m \u001b[0;34m{\u001b[0m\u001b[0;36m1\u001b[0m\u001b[0;34m,\u001b[0m\u001b[0;36m2\u001b[0m\u001b[0;34m,\u001b[0m\u001b[0;36m3\u001b[0m\u001b[0;34m,\u001b[0m\u001b[0;36m4\u001b[0m\u001b[0;34m,\u001b[0m\u001b[0;34m{\u001b[0m\u001b[0;36m1\u001b[0m\u001b[0;34m,\u001b[0m\u001b[0;36m2\u001b[0m\u001b[0;34m}\u001b[0m\u001b[0;34m}\u001b[0m\u001b[0;34m\u001b[0m\u001b[0;34m\u001b[0m\u001b[0m\n\u001b[0m",
            "\u001b[0;31mTypeError\u001b[0m: unhashable type: 'set'"
          ]
        }
      ]
    },
    {
      "cell_type": "markdown",
      "metadata": {
        "id": "uoulDz5-__1c",
        "colab_type": "text"
      },
      "source": [
        "**Length of the Set:**"
      ]
    },
    {
      "cell_type": "code",
      "metadata": {
        "id": "oRv46V-5_-wX",
        "colab_type": "code",
        "colab": {
          "base_uri": "https://localhost:8080/",
          "height": 35
        },
        "outputId": "e45ecc57-4b3f-4558-b02e-eb48f13afcce"
      },
      "source": [
        "s = {1,2,5,9,7,5,6}\n",
        "print(\"Length of the set:\",s)"
      ],
      "execution_count": 54,
      "outputs": [
        {
          "output_type": "stream",
          "text": [
            "Length of the set: {1, 2, 5, 6, 7, 9}\n"
          ],
          "name": "stdout"
        }
      ]
    },
    {
      "cell_type": "markdown",
      "metadata": {
        "id": "5Lz2H0pYAPT-",
        "colab_type": "text"
      },
      "source": [
        "**Removing Elements from set:**\n",
        "\n",
        "\n",
        "> There are two methods of removing elements from set\n",
        "\n",
        "\n",
        "1.   remove()\n",
        "2.   dicard ()\n",
        "3.   pop()\n",
        "\n",
        "\n",
        "> Both remove() and discard() does not returns anything. Or return type of both functions is \"NONE TYPE\"\n",
        "\n",
        "\n",
        "\n",
        "\n",
        "\n"
      ]
    },
    {
      "cell_type": "markdown",
      "metadata": {
        "id": "wZDO5Mp5Al0T",
        "colab_type": "text"
      },
      "source": [
        "**Using remove() function**\n"
      ]
    },
    {
      "cell_type": "code",
      "metadata": {
        "id": "jIYS6tFEAkyw",
        "colab_type": "code",
        "colab": {
          "base_uri": "https://localhost:8080/",
          "height": 35
        },
        "outputId": "d8542a79-2de1-4b7a-a5f2-1060c7ef1ff8"
      },
      "source": [
        "s = {1,2,3,4,5}\n",
        "s.remove(2)\n",
        "print(s)"
      ],
      "execution_count": 55,
      "outputs": [
        {
          "output_type": "stream",
          "text": [
            "{1, 3, 4, 5}\n"
          ],
          "name": "stdout"
        }
      ]
    },
    {
      "cell_type": "markdown",
      "metadata": {
        "id": "7RHMWQglBG49",
        "colab_type": "text"
      },
      "source": [
        "**Using discard() function**\n"
      ]
    },
    {
      "cell_type": "code",
      "metadata": {
        "id": "nTjfuAp7BNi5",
        "colab_type": "code",
        "colab": {
          "base_uri": "https://localhost:8080/",
          "height": 35
        },
        "outputId": "33f36616-7c37-478a-ae76-b9a73c1ed5ba"
      },
      "source": [
        "s = {1,2,3,4,5}\n",
        "s.discard(2)\n",
        "print(s)"
      ],
      "execution_count": 56,
      "outputs": [
        {
          "output_type": "stream",
          "text": [
            "{1, 3, 4, 5}\n"
          ],
          "name": "stdout"
        }
      ]
    },
    {
      "cell_type": "markdown",
      "metadata": {
        "id": "x_2uYSzEBXta",
        "colab_type": "text"
      },
      "source": [
        "**The difference between discard function and remove function is that discard function does not produces any error if the element to be removed is not in the set whereas remove function generates an error when the element to be removed is not found in the set.**\n",
        "\n",
        "\n",
        "\n",
        "> The same thing is shown below:\n",
        "\n",
        "\n",
        "\n"
      ]
    },
    {
      "cell_type": "code",
      "metadata": {
        "id": "lAfmOccwB_e8",
        "colab_type": "code",
        "colab": {
          "base_uri": "https://localhost:8080/",
          "height": 187
        },
        "outputId": "65ea3a2a-12b8-45ca-98ea-df8dfc28eeb0"
      },
      "source": [
        "s = {1,2,3,4,5}\n",
        "s.remove(66)"
      ],
      "execution_count": 57,
      "outputs": [
        {
          "output_type": "error",
          "ename": "KeyError",
          "evalue": "ignored",
          "traceback": [
            "\u001b[0;31m---------------------------------------------------------------------------\u001b[0m",
            "\u001b[0;31mKeyError\u001b[0m                                  Traceback (most recent call last)",
            "\u001b[0;32m<ipython-input-57-86bcacf8ce04>\u001b[0m in \u001b[0;36m<module>\u001b[0;34m()\u001b[0m\n\u001b[1;32m      1\u001b[0m \u001b[0ms\u001b[0m \u001b[0;34m=\u001b[0m \u001b[0;34m{\u001b[0m\u001b[0;36m1\u001b[0m\u001b[0;34m,\u001b[0m\u001b[0;36m2\u001b[0m\u001b[0;34m,\u001b[0m\u001b[0;36m3\u001b[0m\u001b[0;34m,\u001b[0m\u001b[0;36m4\u001b[0m\u001b[0;34m,\u001b[0m\u001b[0;36m5\u001b[0m\u001b[0;34m}\u001b[0m\u001b[0;34m\u001b[0m\u001b[0;34m\u001b[0m\u001b[0m\n\u001b[0;32m----> 2\u001b[0;31m \u001b[0ms\u001b[0m\u001b[0;34m.\u001b[0m\u001b[0mremove\u001b[0m\u001b[0;34m(\u001b[0m\u001b[0;36m66\u001b[0m\u001b[0;34m)\u001b[0m\u001b[0;34m\u001b[0m\u001b[0;34m\u001b[0m\u001b[0m\n\u001b[0m",
            "\u001b[0;31mKeyError\u001b[0m: 66"
          ]
        }
      ]
    },
    {
      "cell_type": "code",
      "metadata": {
        "id": "wS5zan0O_mVm",
        "colab_type": "code",
        "colab": {}
      },
      "source": [
        "s = {1,2,3,4,5}\n",
        "s.discard(66)"
      ],
      "execution_count": 58,
      "outputs": []
    },
    {
      "cell_type": "markdown",
      "metadata": {
        "id": "hI23YBywCN1U",
        "colab_type": "text"
      },
      "source": [
        "**Using pop() function**\n",
        "\n",
        "> Since the sets are not indexed. So we don't know the from where will the pop function will take the element.\n",
        "**pop() function returns the element which it removes**\n",
        "**ONE THING TO BE NOTED THAT HERE IN SETS pop() FUNCTION DOES NOT TAKE ANY ARGUMENT(THE REASON BEING THE SAME)**\n",
        "\n"
      ]
    },
    {
      "cell_type": "code",
      "metadata": {
        "id": "BfBIUo6QD16H",
        "colab_type": "code",
        "colab": {
          "base_uri": "https://localhost:8080/",
          "height": 53
        },
        "outputId": "517bd537-1b5c-4aba-fbed-9d286cb93efe"
      },
      "source": [
        "s = {1,5,4,5,6}\n",
        "k = s.pop()\n",
        "print(\"Set :\",s)\n",
        "print(\"Poped element:\",k)"
      ],
      "execution_count": 59,
      "outputs": [
        {
          "output_type": "stream",
          "text": [
            "Set : {4, 5, 6}\n",
            "Poped element: 1\n"
          ],
          "name": "stdout"
        }
      ]
    },
    {
      "cell_type": "markdown",
      "metadata": {
        "id": "VfquMtLFERYe",
        "colab_type": "text"
      },
      "source": [
        "**Clearing/Deleting the values of the set**"
      ]
    },
    {
      "cell_type": "code",
      "metadata": {
        "id": "XWigqwxrEQUw",
        "colab_type": "code",
        "colab": {
          "base_uri": "https://localhost:8080/",
          "height": 53
        },
        "outputId": "dc441aed-c144-4eb5-9a03-0e01a367dc68"
      },
      "source": [
        "s = {1,5,66,75,446}\n",
        "print(\"Set before clearing:\",s)\n",
        "s.clear() # clear function does not return anything or return type is NONE TYPE\n",
        "print(\"Set after clearing:\",s)"
      ],
      "execution_count": 60,
      "outputs": [
        {
          "output_type": "stream",
          "text": [
            "Set before clearing: {1, 66, 5, 75, 446}\n",
            "Set after clearing: set()\n"
          ],
          "name": "stdout"
        }
      ]
    },
    {
      "cell_type": "markdown",
      "metadata": {
        "id": "uSPaXYXbEx1d",
        "colab_type": "text"
      },
      "source": [
        "**Union of Two sets**"
      ]
    },
    {
      "cell_type": "code",
      "metadata": {
        "id": "ZZEW9wrdE4Ij",
        "colab_type": "code",
        "colab": {
          "base_uri": "https://localhost:8080/",
          "height": 35
        },
        "outputId": "267573c3-8636-428f-d25e-970e3da6e770"
      },
      "source": [
        "s1 = {1,2,3,4,5}\n",
        "s2 = {1,2,\"a\",\"b\"}\n",
        "final_set = s1.union(s2)\n",
        "print(\"Set after Union:\",final_set)"
      ],
      "execution_count": 62,
      "outputs": [
        {
          "output_type": "stream",
          "text": [
            "Set after Union: {1, 2, 3, 4, 5, 'a', 'b'}\n"
          ],
          "name": "stdout"
        }
      ]
    },
    {
      "cell_type": "markdown",
      "metadata": {
        "id": "YI7Gt37-FV8Y",
        "colab_type": "text"
      },
      "source": [
        "**NOTE :**\n",
        "The union() function and update() function does the same thing but union() function returns the set which it unites.But update() function doesnot return anything or return type of update() function is \"NONE TYPE\""
      ]
    },
    {
      "cell_type": "markdown",
      "metadata": {
        "id": "m87GTMGYKcZw",
        "colab_type": "text"
      },
      "source": [
        "**Question 4:**\n",
        "Given a list of n-1 numbers ranging from 1 to n, your task is to find the missing number. There are no\n",
        "duplicates."
      ]
    },
    {
      "cell_type": "code",
      "metadata": {
        "id": "TCaIflYhKtm-",
        "colab_type": "code",
        "colab": {
          "base_uri": "https://localhost:8080/",
          "height": 107
        },
        "outputId": "15cd75bd-7590-40fd-d3f0-4173c2aea2c9"
      },
      "source": [
        "n = [eval(x) for x in input(\"Enter the elements seperated by space\").split()]\n",
        "m = max(n)\n",
        "for e in range(1,m+1):\n",
        "  if e not in n:\n",
        "    print(\"Missing Element:\",e)\n",
        "\n",
        "\n",
        "  \n",
        "\n"
      ],
      "execution_count": null,
      "outputs": [
        {
          "output_type": "stream",
          "text": [
            "Enter the elements seperated by space1 2 3  5 9\n",
            "Missing Element: 4\n",
            "Missing Element: 6\n",
            "Missing Element: 7\n",
            "Missing Element: 8\n"
          ],
          "name": "stdout"
        }
      ]
    },
    {
      "cell_type": "markdown",
      "metadata": {
        "id": "tjogki6BKuRR",
        "colab_type": "text"
      },
      "source": [
        "**Question 5:**With a given list L, write a program to print this list L after removing all duplicate values with original order\n",
        "reserved."
      ]
    },
    {
      "cell_type": "code",
      "metadata": {
        "id": "DzPlk2ColSSJ",
        "colab_type": "code",
        "colab": {
          "base_uri": "https://localhost:8080/",
          "height": 71
        },
        "outputId": "90f6b944-a302-460d-d837-c8583fabe7f9"
      },
      "source": [
        "L = [x for x in input(\"Enter list elements seperated by space\").split()]\n",
        "index = 0\n",
        "new = []\n",
        "for e in L:\n",
        "  if L.index(e) == index:\n",
        "    new.append(e)\n",
        "  index += 1\n",
        "print(new)\n",
        "print(new[::-1])\n"
      ],
      "execution_count": 36,
      "outputs": [
        {
          "output_type": "stream",
          "text": [
            "Enter list elements seperated by space1 1 1 5 5 6 9\n",
            "['1', '5', '6', '9']\n",
            "['9', '6', '5', '1']\n"
          ],
          "name": "stdout"
        }
      ]
    },
    {
      "cell_type": "code",
      "metadata": {
        "id": "d_5T_J9dopC0",
        "colab_type": "code",
        "colab": {}
      },
      "source": [
        ""
      ],
      "execution_count": null,
      "outputs": []
    }
  ]
}