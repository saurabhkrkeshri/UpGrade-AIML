{
  "nbformat": 4,
  "nbformat_minor": 0,
  "metadata": {
    "colab": {
      "name": "UpGrade AML Day 7.ipynb",
      "provenance": [],
      "authorship_tag": "ABX9TyP2gYE5XlAtNLnR9EWXbImM",
      "include_colab_link": true
    },
    "kernelspec": {
      "name": "python3",
      "display_name": "Python 3"
    }
  },
  "cells": [
    {
      "cell_type": "markdown",
      "metadata": {
        "id": "view-in-github",
        "colab_type": "text"
      },
      "source": [
        "<a href=\"https://colab.research.google.com/github/urabh75536/UpGrade-AIML/blob/master/UpGrade_AML_Day_7.ipynb\" target=\"_parent\"><img src=\"https://colab.research.google.com/assets/colab-badge.svg\" alt=\"Open In Colab\"/></a>"
      ]
    },
    {
      "cell_type": "code",
      "metadata": {
        "id": "a2hlsuFgCmto",
        "outputId": "5971e999-1d4c-4c58-9c88-0fa02a813552",
        "colab": {
          "base_uri": "https://localhost:8080/",
          "height": 169
        }
      },
      "source": [
        "f1 = open(\"File_1.txt\",\"w+\")\n",
        "f2 = open(\"File_2.txt\",\"w+\")\n",
        "content = [\"An apple a day keeps the doctor away\\n\", \"Banana is sweet fruit\\n\", \"Carrot is rich in viatmin A\\n\", \"Dinner was delicious\\n\"]\n",
        "f1.writelines(content)\n",
        "f1.close()\n",
        "f1 = open(\"File_1.txt\",\"r+\")\n",
        "for line in f1:\n",
        "    print(line)\n",
        "    f2.writelines(line)\n",
        "f1.close()\n",
        "f2.close()\n"
      ],
      "execution_count": 1,
      "outputs": [
        {
          "output_type": "stream",
          "text": [
            "An apple a day keeps the doctor away\n",
            "\n",
            "Banana is sweet fruit\n",
            "\n",
            "Carrot is rich in viatmin A\n",
            "\n",
            "Dinner was delicious\n",
            "\n"
          ],
          "name": "stdout"
        }
      ]
    },
    {
      "cell_type": "code",
      "metadata": {
        "id": "gvfXyM5oJU90",
        "outputId": "2aec2dfa-0a2d-4f3a-8b94-10d0ff88975f",
        "colab": {
          "base_uri": "https://localhost:8080/",
          "height": 55
        }
      },
      "source": [
        "dictionary = {'a':5, 'b':6, 'c':1, 'd':3, 'e':4}\n",
        "max = -65535\n",
        "min = 65535\n",
        "for key,value in dictionary.items():\n",
        "  if value > max:\n",
        "    max = value\n",
        "  if value < min:\n",
        "    min = value\n",
        "print(\"Maximum Value of the dictionary:\",max)\n",
        "print(\"Minimum value of the dictionary:\",min)\n"
      ],
      "execution_count": 2,
      "outputs": [
        {
          "output_type": "stream",
          "text": [
            "Maximum Value of the dictionary: 6\n",
            "Minimum value of the dictionary: 1\n"
          ],
          "name": "stdout"
        }
      ]
    },
    {
      "cell_type": "code",
      "metadata": {
        "id": "dksiaDtaXnRH"
      },
      "source": [
        ""
      ],
      "execution_count": null,
      "outputs": []
    }
  ]
}