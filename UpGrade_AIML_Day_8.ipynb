{
  "nbformat": 4,
  "nbformat_minor": 0,
  "metadata": {
    "colab": {
      "name": "UpGrade AIML Day 8.ipynb",
      "provenance": [],
      "mount_file_id": "1DmOL8S48svUpELQ6j55mNAfyPD-8OEhQ",
      "authorship_tag": "ABX9TyM4HYl1lprJNfvBj0Zj7ail",
      "include_colab_link": true
    },
    "kernelspec": {
      "name": "python3",
      "display_name": "Python 3"
    }
  },
  "cells": [
    {
      "cell_type": "markdown",
      "metadata": {
        "id": "view-in-github",
        "colab_type": "text"
      },
      "source": [
        "<a href=\"https://colab.research.google.com/github/urabh75536/UpGrade-AIML/blob/master/UpGrade_AIML_Day_8.ipynb\" target=\"_parent\"><img src=\"https://colab.research.google.com/assets/colab-badge.svg\" alt=\"Open In Colab\"/></a>"
      ]
    },
    {
      "cell_type": "markdown",
      "metadata": {
        "id": "PA-xVB9pKqDs"
      },
      "source": [
        "#**Random Modules**"
      ]
    },
    {
      "cell_type": "code",
      "metadata": {
        "id": "mcWE2V_kJ1I1",
        "outputId": "1277a1f9-b878-4e05-cad4-c4f3ac13bc2f",
        "colab": {
          "base_uri": "https://localhost:8080/",
          "height": 112
        }
      },
      "source": [
        "import random\n",
        "print(random.choice((1,5,6,7,8,9))) #Prints any number randomly present in the given tupple\n",
        "print(random.choice([1,5,6,7,8,9,11,15,16])) #prints any random number present in the given list\n",
        "print(random.choice('SaurabhKumar')) #prints any random letter of the string entered\n",
        "print(random.randrange(100,1000,2)) #randrange is similar to range i.e. from 100(including) to 1000(excluding) in the steps of 2\n",
        "#It selects out any random number in the range of 100(inclusive) to 1000(exclusive)\n",
        "print(random.random()) #prints any random number between 0 and 1"
      ],
      "execution_count": null,
      "outputs": [
        {
          "output_type": "stream",
          "text": [
            "7\n",
            "6\n",
            "a\n",
            "694\n",
            "0.16958178444981598\n"
          ],
          "name": "stdout"
        }
      ]
    },
    {
      "cell_type": "markdown",
      "metadata": {
        "id": "8bCk8k3nNQ2R"
      },
      "source": [
        "Shuffle Function"
      ]
    },
    {
      "cell_type": "code",
      "metadata": {
        "id": "66MF90OcK7I5",
        "outputId": "39421a8b-f145-4c7b-baa7-9f8da3b4eb7c",
        "colab": {
          "base_uri": "https://localhost:8080/",
          "height": 36
        }
      },
      "source": [
        "List = [1,5,6,7]\n",
        "random.shuffle(List)\n",
        "print(List)    # It just creates a radom shuffled list out of the list given list members"
      ],
      "execution_count": null,
      "outputs": [
        {
          "output_type": "stream",
          "text": [
            "[7, 5, 1, 6]\n"
          ],
          "name": "stdout"
        }
      ]
    },
    {
      "cell_type": "markdown",
      "metadata": {
        "id": "dDjtzd7hN5jv"
      },
      "source": [
        "Uniform Function"
      ]
    },
    {
      "cell_type": "code",
      "metadata": {
        "id": "XI19ngCRN2A1",
        "outputId": "dc494beb-7367-4ef4-d515-3f3a7535e876",
        "colab": {
          "base_uri": "https://localhost:8080/",
          "height": 36
        }
      },
      "source": [
        "print(random.uniform(7,14)) #it prints any random number between 7(inclusive) and 14(exclusive)"
      ],
      "execution_count": null,
      "outputs": [
        {
          "output_type": "stream",
          "text": [
            "12.689231956956322\n"
          ],
          "name": "stdout"
        }
      ]
    },
    {
      "cell_type": "code",
      "metadata": {
        "id": "V_oi7IiwOCiU",
        "outputId": "998e29a6-a20a-4ef7-e637-082a337de956",
        "colab": {
          "base_uri": "https://localhost:8080/",
          "height": 36
        }
      },
      "source": [
        "import os\n",
        "os.getcwd()\n"
      ],
      "execution_count": null,
      "outputs": [
        {
          "output_type": "execute_result",
          "data": {
            "application/vnd.google.colaboratory.intrinsic+json": {
              "type": "string"
            },
            "text/plain": [
              "'/content'"
            ]
          },
          "metadata": {
            "tags": []
          },
          "execution_count": 28
        }
      ]
    },
    {
      "cell_type": "markdown",
      "metadata": {
        "id": "0l88xt91S6_y"
      },
      "source": [
        "#**File Handling**"
      ]
    },
    {
      "cell_type": "code",
      "metadata": {
        "id": "Rt7c51PEST6w",
        "outputId": "29789c10-7474-4737-d731-32010354b815",
        "colab": {
          "base_uri": "https://localhost:8080/",
          "height": 36
        }
      },
      "source": [
        "f = open(\"t1.txt\",\"w\")\n",
        "f.write(\"This text file is made by Saurabh\")\n",
        "print(f.tell()) #tells the file pointer position\n",
        "f.close()\n"
      ],
      "execution_count": null,
      "outputs": [
        {
          "output_type": "stream",
          "text": [
            "33\n"
          ],
          "name": "stdout"
        }
      ]
    },
    {
      "cell_type": "markdown",
      "metadata": {
        "id": "fjRe4bohUmFI"
      },
      "source": [
        "Renaming the file name\n"
      ]
    },
    {
      "cell_type": "code",
      "metadata": {
        "id": "YTO3O0PiTZZD"
      },
      "source": [
        "import os\n",
        "os.rename(\"t1.txt\",\"Saurabh.txt\")"
      ],
      "execution_count": null,
      "outputs": []
    },
    {
      "cell_type": "markdown",
      "metadata": {
        "id": "KV9hHqyBaJ1U"
      },
      "source": [
        "Getting the working directory path"
      ]
    },
    {
      "cell_type": "code",
      "metadata": {
        "id": "m9bGY3JwU1XD",
        "outputId": "e3d1c7aa-c906-4da0-8933-51219e521145",
        "colab": {
          "base_uri": "https://localhost:8080/",
          "height": 36
        }
      },
      "source": [
        "os.getcwd()"
      ],
      "execution_count": null,
      "outputs": [
        {
          "output_type": "execute_result",
          "data": {
            "application/vnd.google.colaboratory.intrinsic+json": {
              "type": "string"
            },
            "text/plain": [
              "'/content'"
            ]
          },
          "metadata": {
            "tags": []
          },
          "execution_count": 31
        }
      ]
    },
    {
      "cell_type": "markdown",
      "metadata": {
        "id": "fZKXMQPNaSrQ"
      },
      "source": [
        "Making a directory(or a Folder)"
      ]
    },
    {
      "cell_type": "code",
      "metadata": {
        "id": "jtR3Htn2aRZl"
      },
      "source": [
        "os.mkdir(\"Saurabh Folder\")"
      ],
      "execution_count": null,
      "outputs": []
    },
    {
      "cell_type": "markdown",
      "metadata": {
        "id": "ClFw9MtZanBg"
      },
      "source": [
        "Changing Directory"
      ]
    },
    {
      "cell_type": "code",
      "metadata": {
        "id": "noGbhI2GahrX"
      },
      "source": [
        "os.chdir(\"Fill path name\")"
      ],
      "execution_count": null,
      "outputs": []
    },
    {
      "cell_type": "markdown",
      "metadata": {
        "id": "yG9BEfBaazK1"
      },
      "source": [
        "Removing director"
      ]
    },
    {
      "cell_type": "code",
      "metadata": {
        "id": "gdgZx_heaxso"
      },
      "source": [
        "os.rmdir(\"Saurabh Folder\")"
      ],
      "execution_count": null,
      "outputs": []
    },
    {
      "cell_type": "markdown",
      "metadata": {
        "id": "A4NmqwiCbOiL"
      },
      "source": [
        "List of folders in current directory"
      ]
    },
    {
      "cell_type": "code",
      "metadata": {
        "id": "RNol97Mea6ZY",
        "outputId": "8c09d5b3-4de7-4802-c5e3-ab53df2f75a6",
        "colab": {
          "base_uri": "https://localhost:8080/",
          "height": 36
        }
      },
      "source": [
        "os.listdir()"
      ],
      "execution_count": null,
      "outputs": [
        {
          "output_type": "execute_result",
          "data": {
            "text/plain": [
              "['.config', 'Saurabh.txt', 'drive', 'sample_data']"
            ]
          },
          "metadata": {
            "tags": []
          },
          "execution_count": 34
        }
      ]
    },
    {
      "cell_type": "code",
      "metadata": {
        "id": "lZeJJSbFbW10"
      },
      "source": [
        ""
      ],
      "execution_count": null,
      "outputs": []
    },
    {
      "cell_type": "markdown",
      "metadata": {
        "id": "sbSNhzmvObuy"
      },
      "source": [
        "##**Map Function**\n",
        "Map function: It applies the given function to all iterables and returns a new list\n",
        "\n",
        "\n",
        "```\n",
        "Syntax of map function: map(function name, iterables)   \n",
        "```\n",
        "\n"
      ]
    },
    {
      "cell_type": "code",
      "metadata": {
        "id": "g1MEHF19PLZB",
        "outputId": "16e669ea-c722-4a90-b63e-900ecefc0106",
        "colab": {
          "base_uri": "https://localhost:8080/",
          "height": 36
        }
      },
      "source": [
        "def square(a):\n",
        "  return a**2\n",
        "input_list = [1,2,5,7]\n",
        "square_iterable = map(square, input_list)\n",
        "square_iterable_1 = map(square, input_list)\n",
        "square_iterable_2 = map(square, input_list)\n",
        "print(square_iterable)"
      ],
      "execution_count": null,
      "outputs": [
        {
          "output_type": "stream",
          "text": [
            "<map object at 0x7fc098ec6a90>\n"
          ],
          "name": "stdout"
        }
      ]
    },
    {
      "cell_type": "markdown",
      "metadata": {
        "id": "vUjpkmlUQWKc"
      },
      "source": [
        "Here we are not able to print the result as expected beacuse map function returns an object. i.e it returns a map object which can seen as"
      ]
    },
    {
      "cell_type": "code",
      "metadata": {
        "id": "e5OUSdbvPmrz",
        "outputId": "13e147a3-faad-48d4-a913-d5a7283ff293",
        "colab": {
          "base_uri": "https://localhost:8080/",
          "height": 36
        }
      },
      "source": [
        "type(square_iterable)"
      ],
      "execution_count": null,
      "outputs": [
        {
          "output_type": "execute_result",
          "data": {
            "text/plain": [
              "map"
            ]
          },
          "metadata": {
            "tags": []
          },
          "execution_count": 11
        }
      ]
    },
    {
      "cell_type": "markdown",
      "metadata": {
        "id": "SObeoO8HQthm"
      },
      "source": [
        "So to see what is inside the map function. For that we can use type conversion i.e. list, tuple, set"
      ]
    },
    {
      "cell_type": "code",
      "metadata": {
        "id": "bOUgex84QsHt",
        "outputId": "aece7ecf-be5f-4869-be5c-4358ba86fdfa",
        "colab": {
          "base_uri": "https://localhost:8080/",
          "height": 36
        }
      },
      "source": [
        "print(list(square_iterable))"
      ],
      "execution_count": null,
      "outputs": [
        {
          "output_type": "stream",
          "text": [
            "[1, 4, 25, 49]\n"
          ],
          "name": "stdout"
        }
      ]
    },
    {
      "cell_type": "code",
      "metadata": {
        "id": "Sbgy1YlzRXZ9",
        "outputId": "4e82b508-0ff0-4c13-a2c9-350aaa7884a4",
        "colab": {
          "base_uri": "https://localhost:8080/",
          "height": 36
        }
      },
      "source": [
        "print(tuple(square_iterable_1))"
      ],
      "execution_count": null,
      "outputs": [
        {
          "output_type": "stream",
          "text": [
            "(1, 4, 25, 49)\n"
          ],
          "name": "stdout"
        }
      ]
    },
    {
      "cell_type": "code",
      "metadata": {
        "id": "fF5Dt-ZlRbAd",
        "outputId": "5ad86206-eb4f-4803-8dde-6c4b9fe4150b",
        "colab": {
          "base_uri": "https://localhost:8080/",
          "height": 36
        }
      },
      "source": [
        "print(set(square_iterable_2))"
      ],
      "execution_count": null,
      "outputs": [
        {
          "output_type": "stream",
          "text": [
            "{1, 4, 25, 49}\n"
          ],
          "name": "stdout"
        }
      ]
    },
    {
      "cell_type": "markdown",
      "metadata": {
        "id": "qV2Vd-YsUx6S"
      },
      "source": [
        "**Using 2 variables in the function**"
      ]
    },
    {
      "cell_type": "code",
      "metadata": {
        "id": "X_M1k3aNR-2Y",
        "outputId": "06a5c91d-8b60-4979-af7d-ef1f8f6178c0",
        "colab": {
          "base_uri": "https://localhost:8080/",
          "height": 36
        }
      },
      "source": [
        "def multiply(a,b):\n",
        "    return a*b\n",
        "first_list = [1,5,6,7,9]\n",
        "second_list = [5,6,4,2,8]\n",
        "multiplied_list = list(map(multiply, first_list, second_list))\n",
        "print(\"Multiplied List:\",multiplied_list)\n"
      ],
      "execution_count": null,
      "outputs": [
        {
          "output_type": "stream",
          "text": [
            "Multiplied List: [5, 30, 24, 14, 72]\n"
          ],
          "name": "stdout"
        }
      ]
    },
    {
      "cell_type": "markdown",
      "metadata": {
        "id": "ycjYg5jUW25k"
      },
      "source": [
        "Here one thing should be noted that if the \"first_list\" and \"second_list\" have different number of elements in them , then only mapped element are calculated and the extra elements which cannot be mapped are neglected."
      ]
    },
    {
      "cell_type": "markdown",
      "metadata": {
        "id": "vFshvEJFXlOS"
      },
      "source": [
        "We can have diiferent types of sequence in the map. i.e. in \"first_list\" can have list and \"second_list\" can have tuple also. The above code works in that case also."
      ]
    },
    {
      "cell_type": "markdown",
      "metadata": {
        "id": "7-l5ROcPLUh7"
      },
      "source": [
        "#**Lambda Functions**"
      ]
    },
    {
      "cell_type": "markdown",
      "metadata": {
        "id": "D8x1RCgpNmdY"
      },
      "source": [
        "Normal functions are defined and used for the purpose of doing repetative work. It means that if we a want to perform a work repeatedly then we can define a user defined function and use it whenever required. But lambda functions are special type of functions which do nor have a name and can be used only once. i.e. lambda functions are used for only one time use. "
      ]
    },
    {
      "cell_type": "markdown",
      "metadata": {
        "id": "3lfU0sXoPMXy"
      },
      "source": [
        "\n",
        "\n",
        "```\n",
        "Some examples of how to use Lambda Functions\n",
        "```\n",
        "\n"
      ]
    },
    {
      "cell_type": "code",
      "metadata": {
        "id": "Qbrq5AUxUwuC",
        "outputId": "108214e8-028d-4e4e-c98b-078e6ab06f0e",
        "colab": {
          "base_uri": "https://localhost:8080/",
          "height": 36
        }
      },
      "source": [
        "#Addition of two numbers\n",
        "a = (lambda x, y: x+y)(3,4)\n",
        "print(a)"
      ],
      "execution_count": null,
      "outputs": [
        {
          "output_type": "stream",
          "text": [
            "7\n"
          ],
          "name": "stdout"
        }
      ]
    },
    {
      "cell_type": "markdown",
      "metadata": {
        "id": "5AaF6lfhaDFv"
      },
      "source": [
        "#Note\n",
        "\n",
        "\n",
        "---\n",
        "```\n",
        "def abc(x):\n",
        "  return lambda y: x+y  ----> Here this will return an incompleted expression => lambda y: 4 + y\n",
        "t = abc(4) \n",
        "```\n",
        "Actually here returned value is object which when gets the value i.e. \"t\" is getting an object variable\n",
        "```\n",
        "t(5) #This will be evaluated to some value\n",
        "```\n",
        "\n"
      ]
    },
    {
      "cell_type": "markdown",
      "metadata": {
        "id": "FeZcXVxM0_5y"
      },
      "source": [
        "**Use of Lambda function in map function**"
      ]
    },
    {
      "cell_type": "code",
      "metadata": {
        "id": "hOlhQpzeW90d",
        "outputId": "c1ee51f6-d54d-4b02-dbd5-062556a471bf",
        "colab": {
          "base_uri": "https://localhost:8080/",
          "height": 36
        }
      },
      "source": [
        "list_1 = [1,2,3,4,5]\n",
        "list_2 = [6,7,8,9,10]\n",
        "corresponding_multiplication_list = list(map(lambda a,b : a*b,list_1,list_2))\n",
        "print(corresponding_multiplication_list)"
      ],
      "execution_count": null,
      "outputs": [
        {
          "output_type": "stream",
          "text": [
            "[6, 14, 24, 36, 50]\n"
          ],
          "name": "stdout"
        }
      ]
    },
    {
      "cell_type": "markdown",
      "metadata": {
        "id": "BlMSrpzGC3D4"
      },
      "source": [
        "#**Filter Function**\n",
        "---\n",
        "It is used to filter the given iterables with help of another function passed as an argument to test all the elements to be True or False\n",
        "---\n",
        "**SYNTAX**\n",
        "---\n",
        "filter(function,iterables)\n",
        "---\n",
        "**Note**\n",
        "---\n",
        "Just like the map function , filter funnction also returns an object variable and therefore it should be converted into list, tuples, etc just like we did in map function."
      ]
    },
    {
      "cell_type": "markdown",
      "metadata": {
        "id": "vVdW-c-AGtWx"
      },
      "source": [
        "![image.png](data:image/png;base64,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)\n",
        "\n",
        "---\n",
        "```\n",
        "def sqr(a):\n",
        "  if a >= 3:\n",
        "    return a\n",
        "\n",
        "```\n",
        "---\n",
        "According to this condition filter function evaluates to True or False\n"
      ]
    },
    {
      "cell_type": "code",
      "metadata": {
        "id": "GIyWWcW6Ew1B",
        "outputId": "06be1398-72e8-4bdb-b9f4-222eb58c099b",
        "colab": {
          "base_uri": "https://localhost:8080/",
          "height": 74
        }
      },
      "source": [
        "def sqr(a):\n",
        "  if a >= 3:\n",
        "    return a\n",
        "List = [1,2,3,4,5]\n",
        "x = filter(sqr, List)\n",
        "print(x)\n",
        "print(type(x))\n",
        "x = list(x)\n",
        "print(x)"
      ],
      "execution_count": null,
      "outputs": [
        {
          "output_type": "stream",
          "text": [
            "<filter object at 0x7ffbc18effd0>\n",
            "<class 'filter'>\n",
            "[3, 4, 5]\n"
          ],
          "name": "stdout"
        }
      ]
    },
    {
      "cell_type": "markdown",
      "metadata": {
        "id": "4CNlhW_VcBGa"
      },
      "source": [
        "---\n",
        "But this is not how filter function is used.\n",
        "---\n",
        "Filter function is practically used as below\n",
        "---"
      ]
    },
    {
      "cell_type": "code",
      "metadata": {
        "id": "kYipcwukKAqa",
        "outputId": "b4cdaa85-33c2-42bf-d42e-0ed72bd6507a",
        "colab": {
          "base_uri": "https://localhost:8080/",
          "height": 36
        }
      },
      "source": [
        "List = [1,2,3,4,5]\n",
        "x = filter(lambda x: x>3 , List)  #Here \"x\" in the lambda takes an object \"List\" i.e. here lambda function takes object as an object\n",
        "x = list(x)\n",
        "print(x)"
      ],
      "execution_count": null,
      "outputs": [
        {
          "output_type": "stream",
          "text": [
            "[4, 5]\n"
          ],
          "name": "stdout"
        }
      ]
    },
    {
      "cell_type": "markdown",
      "metadata": {
        "id": "fnGzWk0KejmQ"
      },
      "source": [
        "\n",
        "Reduce Function\n",
        "---\n",
        "It applies some other function to a list that are passed as a parameter to it and finally returns a single value\n",
        "---\n",
        "**SYNTAX :**\n",
        "reduce(function, iterable)\n"
      ]
    },
    {
      "cell_type": "markdown",
      "metadata": {
        "id": "Ms0kVaBoer6L"
      },
      "source": [
        "Let's see an previous example of sum of 5 whole numbers starting from 0 to 4\n",
        "```\n",
        "sum = 0\n",
        "for e in range(5):\n",
        "  sum += e\n",
        "print(sum)\n",
        "```"
      ]
    },
    {
      "cell_type": "markdown",
      "metadata": {
        "id": "rH6hu4cMfEX7"
      },
      "source": [
        "Similarily reduce function does the same work in a single line of code\n"
      ]
    },
    {
      "cell_type": "code",
      "metadata": {
        "id": "tOIqg8Lvc5Do",
        "outputId": "05a8bd05-8670-4cc1-82bb-9e79376b706d",
        "colab": {
          "base_uri": "https://localhost:8080/",
          "height": 36
        }
      },
      "source": [
        "from functools import reduce\n",
        "def add(a,b):\n",
        "  return a+b\n",
        "x = reduce(add, [0,1,2,3,4])\n",
        "print(x)"
      ],
      "execution_count": null,
      "outputs": [
        {
          "output_type": "stream",
          "text": [
            "10\n"
          ],
          "name": "stdout"
        }
      ]
    },
    {
      "cell_type": "markdown",
      "metadata": {
        "id": "sUqVaHUwgjzb"
      },
      "source": [
        "Here what is happening we will see in the block\n",
        "![image.png](data:image/png;base64,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)"
      ]
    },
    {
      "cell_type": "markdown",
      "metadata": {
        "id": "WSHtKIjmn1hB"
      },
      "source": [
        "The value of \"b\" is automatically moves to next value. And the operation performed between \"a\" and \"b\". Here it is addition i.e. addition is performed between \"a\" and \"b\" (a+b). So here \"b\" points to the current value of the list and \"a\" contains the summed value(because addition is performed) [Initially vlaue of \"a\" is \"0\"] And consecuently \"b\" moves ahead and summed value is kept in \"b\". \n",
        "**And at last whatever value is kept in \"a\" is returned at last**"
      ]
    },
    {
      "cell_type": "code",
      "metadata": {
        "id": "WQ6tXE2lgbis",
        "outputId": "c4540095-cae1-4689-9aa6-a4b45944140e",
        "colab": {
          "base_uri": "https://localhost:8080/",
          "height": 36
        }
      },
      "source": [
        "#Using Lambda Function in reduce\n",
        "x = reduce(lambda x,y: x+y , [0,1,2,3,4])\n",
        "print(x)"
      ],
      "execution_count": null,
      "outputs": [
        {
          "output_type": "stream",
          "text": [
            "10\n"
          ],
          "name": "stdout"
        }
      ]
    },
    {
      "cell_type": "code",
      "metadata": {
        "id": "ImXq-0SRqNy6",
        "outputId": "a2c801ee-ff7a-43b3-f354-28ac4f5c7c23",
        "colab": {
          "base_uri": "https://localhost:8080/",
          "height": 36
        }
      },
      "source": [
        "#Using filter function within a map function\n",
        "x = map(lambda x: x+x, filter(lambda x: x>=3, [1,2,3,4])) #Note that due to PAMDAS rule, inner bracket is solved first. So, lambda function inside the filter will be evaluated first\n",
        "\"\"\"\n",
        "filter(lambda x: x>=3, [1,2,3,4]) ==> This will return a list whose values are gretaer than or equal to 3 i.e. [3,4]\n",
        "map function will do x+x means 3+3 and 4+4 of the elememts\n",
        "\"\"\"\n",
        "x = list(x)\n",
        "print(x)\n"
      ],
      "execution_count": null,
      "outputs": [
        {
          "output_type": "stream",
          "text": [
            "[6, 8]\n"
          ],
          "name": "stdout"
        }
      ]
    },
    {
      "cell_type": "code",
      "metadata": {
        "id": "kAF8PpUzrVOj",
        "outputId": "2fa0edd2-4483-4934-b156-32b7c15e1d1f",
        "colab": {
          "base_uri": "https://localhost:8080/",
          "height": 36
        }
      },
      "source": [
        "#Using map function within a filter function\n",
        "x = filter(lambda x: x>=4 , map(lambda x: x+3, [0,1,2,3,4]))\n",
        "x = list(x)\n",
        "print(x)\n"
      ],
      "execution_count": null,
      "outputs": [
        {
          "output_type": "stream",
          "text": [
            "[4, 5, 6, 7]\n"
          ],
          "name": "stdout"
        }
      ]
    },
    {
      "cell_type": "code",
      "metadata": {
        "id": "dAu_7fW-suQz",
        "outputId": "c4364d4a-89a4-49b4-ed3a-5d9bfd20428a",
        "colab": {
          "base_uri": "https://localhost:8080/",
          "height": 36
        }
      },
      "source": [
        "#Using filter and map function within reduce function\n",
        "x = reduce(lambda x,y: x+y , map(lambda x: x+x, filter(lambda x: x>=3, [0,1,2,3,4])))\n",
        "print(x)"
      ],
      "execution_count": null,
      "outputs": [
        {
          "output_type": "stream",
          "text": [
            "14\n"
          ],
          "name": "stdout"
        }
      ]
    },
    {
      "cell_type": "code",
      "metadata": {
        "id": "aJYoiIeFydzB"
      },
      "source": [
        ""
      ],
      "execution_count": null,
      "outputs": []
    },
    {
      "cell_type": "markdown",
      "metadata": {
        "id": "4avffAuAVZ-1"
      },
      "source": [
        "#**Iterators and Gererators**\n",
        "---\n"
      ]
    },
    {
      "cell_type": "code",
      "metadata": {
        "id": "XtyEFwGuVjxU",
        "outputId": "e3981a47-fe5d-4231-f848-032173ca6616",
        "colab": {
          "base_uri": "https://localhost:8080/",
          "height": 55
        }
      },
      "source": [
        "def foo():\n",
        "  n = 3\n",
        "  yield n\n",
        "  n = n*n\n",
        "  yield n\n",
        "v = foo() #Here \"v\" is a generator object and so we can see it by printing it out\n",
        "print(v)\n",
        "v.__next__() #generator object.__next__() => This is used to access the one element in the object variable"
      ],
      "execution_count": null,
      "outputs": [
        {
          "output_type": "stream",
          "text": [
            "<generator object foo at 0x7f3dfbc53f68>\n"
          ],
          "name": "stdout"
        },
        {
          "output_type": "execute_result",
          "data": {
            "text/plain": [
              "3"
            ]
          },
          "metadata": {
            "tags": []
          },
          "execution_count": 3
        }
      ]
    },
    {
      "cell_type": "code",
      "metadata": {
        "id": "dAmsyo0DVyrB",
        "outputId": "e5dd2ab8-9f96-4618-e065-6aa557ca6047",
        "colab": {
          "base_uri": "https://localhost:8080/",
          "height": 36
        }
      },
      "source": [
        "v.__next__()"
      ],
      "execution_count": null,
      "outputs": [
        {
          "output_type": "execute_result",
          "data": {
            "text/plain": [
              "9"
            ]
          },
          "metadata": {
            "tags": []
          },
          "execution_count": 2
        }
      ]
    },
    {
      "cell_type": "markdown",
      "metadata": {
        "id": "cDbxD6E7XKuB"
      },
      "source": [
        "This can be done ina  single go using a \"for\" loop"
      ]
    },
    {
      "cell_type": "code",
      "metadata": {
        "id": "5Ue8lgvuW25v"
      },
      "source": [
        ""
      ],
      "execution_count": null,
      "outputs": []
    },
    {
      "cell_type": "code",
      "metadata": {
        "id": "zE4H1r2dXaD9",
        "outputId": "db40e39c-1a72-4295-ea68-cbf79ecdcbcc",
        "colab": {
          "base_uri": "https://localhost:8080/",
          "height": 55
        }
      },
      "source": [
        "def foo():\n",
        "  n = 3\n",
        "  yield n\n",
        "  n = n*n\n",
        "  yield n\n",
        "v = foo() \n",
        "for e in v:\n",
        "  print(e)\n"
      ],
      "execution_count": null,
      "outputs": [
        {
          "output_type": "stream",
          "text": [
            "3\n",
            "9\n"
          ],
          "name": "stdout"
        }
      ]
    },
    {
      "cell_type": "markdown",
      "metadata": {
        "id": "QbQaDjEnXhZn"
      },
      "source": [
        "Here \"v\" is a generator object and so \"for\" loop will ru untill all the elements are accessed."
      ]
    },
    {
      "cell_type": "code",
      "metadata": {
        "id": "LN9Ws0QsXfdM"
      },
      "source": [
        ""
      ],
      "execution_count": null,
      "outputs": []
    }
  ]
}