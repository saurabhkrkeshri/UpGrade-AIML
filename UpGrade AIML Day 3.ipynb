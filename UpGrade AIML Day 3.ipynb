{
 "cells": [
  {
   "cell_type": "code",
   "execution_count": 1,
   "metadata": {},
   "outputs": [
    {
     "data": {
      "text/plain": [
       "'D:\\\\Jupiter_Notebook'"
      ]
     },
     "execution_count": 1,
     "metadata": {},
     "output_type": "execute_result"
    }
   ],
   "source": [
    "import os\n",
    "os.getcwd()"
   ]
  },
  {
   "cell_type": "markdown",
   "metadata": {},
   "source": [
    "Question 1: Write a program to subtract to complex numbers in python"
   ]
  },
  {
   "cell_type": "code",
   "execution_count": 2,
   "metadata": {},
   "outputs": [
    {
     "name": "stdout",
     "output_type": "stream",
     "text": [
      "Enter first complex number23+4j\n",
      "Entern second complex number25+3j\n",
      "Subtration of Complex number:  (-2+1j)\n"
     ]
    }
   ],
   "source": [
    "x = complex(input(\"Enter first complex number\"))\n",
    "y = complex = complex(input(\"Entern second complex number\"))\n",
    "print(\"Subtration of Complex number: \",x-y)\n"
   ]
  },
  {
   "cell_type": "markdown",
   "metadata": {},
   "source": [
    "Question 2: Write a program to find the fourth root of a number"
   ]
  },
  {
   "cell_type": "code",
   "execution_count": 5,
   "metadata": {},
   "outputs": [
    {
     "name": "stdout",
     "output_type": "stream",
     "text": [
      "Enter a number625\n",
      "Fourth root of enetered number :  5.0\n"
     ]
    }
   ],
   "source": [
    "x = float(input(\"Enter a number\"))\n",
    "print(\"Fourth root of enetered number : \",x**0.25)"
   ]
  },
  {
   "cell_type": "markdown",
   "metadata": {},
   "source": [
    "Question 3: Write a program to swap two numbers in Python with the help of a temporary variable."
   ]
  },
  {
   "cell_type": "code",
   "execution_count": 6,
   "metadata": {},
   "outputs": [
    {
     "name": "stdout",
     "output_type": "stream",
     "text": [
      "Enter first number5\n",
      "Enter second number6\n",
      "First Number: 5 \n",
      " Second Number: 6\n",
      "After swapping:\n",
      "First Number: 6 \n",
      " Second Number: 5\n"
     ]
    }
   ],
   "source": [
    "x = int(input(\"Enter first number\"))\n",
    "y = int(input(\"Enter second number\"))\n",
    "print(\"First Number:\",x,\"\\n\",\"Second Number:\",y)\n",
    "t = x\n",
    "x = y\n",
    "y = t\n",
    "print(\"After swapping:\")\n",
    "print(\"First Number:\",x,\"\\n\",\"Second Number:\",y)"
   ]
  },
  {
   "cell_type": "markdown",
   "metadata": {},
   "source": [
    "Question 4: Write a program to swap two numbers in Python without using a temporary variable."
   ]
  },
  {
   "cell_type": "code",
   "execution_count": 8,
   "metadata": {},
   "outputs": [
    {
     "name": "stdout",
     "output_type": "stream",
     "text": [
      "Enter first number5\n",
      "Enter second number6\n",
      "First Number: 5 \n",
      " Second Number: 6\n",
      "After Swappig: \n",
      "First Number: 6 \n",
      " Second Number: 5\n"
     ]
    }
   ],
   "source": [
    "x = int(input(\"Enter first number\"))\n",
    "y = int(input(\"Enter second number\"))\n",
    "print(\"First Number:\",x,\"\\n\",\"Second Number:\",y)\n",
    "y = x+y\n",
    "x = y-x\n",
    "y = y-x\n",
    "print(\"After Swappig: \")\n",
    "print(\"First Number:\",x,\"\\n\",\"Second Number:\",y)\n"
   ]
  },
  {
   "cell_type": "markdown",
   "metadata": {},
   "source": [
    "Question 5: Write a program to convert Fahrenheit to kelvin and celsius both."
   ]
  },
  {
   "cell_type": "code",
   "execution_count": 11,
   "metadata": {},
   "outputs": [
    {
     "name": "stdout",
     "output_type": "stream",
     "text": [
      "Enter temperature in Fahrenheit-40\n",
      "Celcius Temperature: -40.0 \n",
      " Kelvin Temerature: 233.14999999999998\n"
     ]
    }
   ],
   "source": [
    "F = float(input(\"Enter temperature in Fahrenheit\"))\n",
    "C = (F - 32)*(5/9)\n",
    "K = C + 273.15\n",
    "print(\"Celcius Temperature:\",C,\"\\n\",\"Kelvin Temerature:\",K)\n"
   ]
  },
  {
   "cell_type": "markdown",
   "metadata": {},
   "source": [
    "Question 6: Write a program to demonstrate all the available data types in Python. Hint: Use type() function."
   ]
  },
  {
   "cell_type": "code",
   "execution_count": 15,
   "metadata": {},
   "outputs": [
    {
     "name": "stdout",
     "output_type": "stream",
     "text": [
      "Enter any number3+2.36j\n",
      "Data type: <class 'complex'>\n"
     ]
    }
   ],
   "source": [
    "x = eval(input(\"Enter any number\"))\n",
    "print(\"Data type:\",type(x))"
   ]
  }
 ],
 "metadata": {
  "kernelspec": {
   "display_name": "Python 3",
   "language": "python",
   "name": "python3"
  },
  "language_info": {
   "codemirror_mode": {
    "name": "ipython",
    "version": 3
   },
   "file_extension": ".py",
   "mimetype": "text/x-python",
   "name": "python",
   "nbconvert_exporter": "python",
   "pygments_lexer": "ipython3",
   "version": "3.7.4"
  }
 },
 "nbformat": 4,
 "nbformat_minor": 4
}
